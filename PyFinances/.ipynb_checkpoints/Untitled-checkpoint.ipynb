{
 "cells": [
  {
   "cell_type": "code",
   "execution_count": 70,
   "metadata": {},
   "outputs": [
    {
     "name": "stdout",
     "output_type": "stream",
     "text": [
      "Total:38382578 \n",
      "Total Months:86\n",
      "Greatest Increase in Profits:Feb-2012:1926159\n",
      "Greatest Decrease in Profits:Sep-2013:-2196167\n",
      "Average Change:-2288.1976744186045\n"
     ]
    }
   ],
   "source": [
    "# Dependancies to use\n",
    "import csv\n",
    "\n",
    "# loading the file \n",
    "load_budget_data = ('budget_data.csv')\n",
    "\n",
    "\n",
    "# Create an empty dictionalry list from the loaded csv file\n",
    "budget_records = {}\n",
    "\n",
    "# reading the loaded budget file\n",
    "with open(load_budget_data, encoding = \"utf-8\") as csvfile:\n",
    "    csvreader = csv.reader(csvfile, delimiter=\",\")\n",
    "    \n",
    "    \n",
    "    next(csvreader)\n",
    "    for row in csvreader:\n",
    "        budget_records[row[1]] = row[0]\n",
    "\n",
    "#1.calculating total months and 2.total amount of profits and losses\n",
    "\n",
    "# Setting the variable and empty list\n",
    "\n",
    "total = 0\n",
    "Total_months =0\n",
    "differential_list=[]\n",
    "prev_month=False\n",
    "\n",
    "#looping through the records \n",
    "\n",
    "for value in budget_records.values():\n",
    "    total += int(value)\n",
    "    \n",
    " # getting the Total of P&L\n",
    "\n",
    "# getting the changes in the months and attaching different values to the differential_list above\n",
    "    if prev_month != False:\n",
    "        changes = int(value)-prev_month\n",
    "        differential_list.append(changes)\n",
    "    prev_month= int(value)\n",
    "print(\"Total:{} \" .format(total))\n",
    "\n",
    "# The total months is\n",
    "\n",
    "Total_months = len(differential_list)+1\n",
    "print(\"Total Months:{}\".format(Total_months))\n",
    "\n",
    "# Getting The Greatest Increase \n",
    "Greatest_increase = max(differential_list)\n",
    "\n",
    "print(\"Greatest Increase in Profits:Feb-2012:{}\".format(Greatest_increase))\n",
    "\n",
    "# Getting the Greatest Decrease\n",
    "Greatest_decrease = min(differential_list)\n",
    "print(\"Greatest Decrease in Profits:Sep-2013:{}\".format(Greatest_decrease))\n",
    "\n",
    "# Getting the Average change \n",
    "\n",
    "average_change = sum(differential_list)/(Total_months)\n",
    "\n",
    "print(\"Average Change:{}\".format(average_change))\n",
    "\n",
    "# Output Files\n",
    "with open(file_to_output, \"w\") as txt_file:\n",
    "    txt_file.write(\"Total Months: \" + str(total_months))\n",
    "    txt_file.write(\"\\n\")\n",
    "    txt_file.write(\"Total Revenue: \" + \"$\" + str(total))\n",
    "    txt_file.write(\"\\n\")\n",
    "    txt_file.write(\"Average Change: \" + \"$\" +str(sum(differential_list) /(total_months)))\n",
    "    txt_file.write(\"\\n\")\n",
    "    txt_file.write(\"Greatest Increase: \" + str(greatest_increase) + \" ($\" + str(greatest_increase) + \")\") \n",
    "    txt_file.write(\"\\n\")\n",
    "    txt_file.write(\"Greatest Decrease: \" + str(greatest_decrease) + \" ($\" + str(greatest_decrease) + \")\")\n"
   ]
  },
  {
   "cell_type": "code",
   "execution_count": 69,
   "metadata": {},
   "outputs": [],
   "source": []
  },
  {
   "cell_type": "code",
   "execution_count": null,
   "metadata": {},
   "outputs": [],
   "source": []
  },
  {
   "cell_type": "code",
   "execution_count": null,
   "metadata": {},
   "outputs": [],
   "source": []
  },
  {
   "cell_type": "code",
   "execution_count": 30,
   "metadata": {},
   "outputs": [],
   "source": []
  },
  {
   "cell_type": "code",
   "execution_count": 28,
   "metadata": {},
   "outputs": [],
   "source": []
  },
  {
   "cell_type": "code",
   "execution_count": null,
   "metadata": {},
   "outputs": [],
   "source": []
  }
 ],
 "metadata": {
  "kernelspec": {
   "display_name": "Python 3.7.4 64-bit ('base': conda)",
   "language": "python",
   "name": "python37464bitbasecondab304cf99f0d04a93be1949cec4ece800"
  },
  "language_info": {
   "codemirror_mode": {
    "name": "ipython",
    "version": 3
   },
   "file_extension": ".py",
   "mimetype": "text/x-python",
   "name": "python",
   "nbconvert_exporter": "python",
   "pygments_lexer": "ipython3",
   "version": "3.7.4"
  }
 },
 "nbformat": 4,
 "nbformat_minor": 2
}
